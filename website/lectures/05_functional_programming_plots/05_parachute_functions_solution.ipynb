{
 "cells": [
  {
   "cell_type": "markdown",
   "id": "a99f6978",
   "metadata": {},
   "source": [
    "# Parachute problem\n",
    "\n",
    "What's the terminal velocity of someone falling with a parachute?\n",
    "(this is our **system**)\n",
    "\n",
    "\n",
    "## Assumptions\n",
    "Let's say we have a **model** for this problem:\n",
    "\n",
    "$$\\frac{dv}{dt} = g -\\frac{c}{m}v$$\n",
    "\n",
    "where $g$ is gravitational acceleration, $c$ is a drag coefficient, $m$ is the parachutist's mass, and $v$ is their velocity.\n",
    "The solution to this differential equation is:\n",
    "\n",
    "$$ v(t) = \\frac{gm}{c}(1 - e^{ct/m})$$\n",
    "\n",
    "Write a **function** that finds the terminal velocity of a parachutist of a given mass and drag coefficient.\n"
   ]
  },
  {
   "cell_type": "markdown",
   "id": "78824b73",
   "metadata": {},
   "source": [
    "--- \n",
    "\n",
    "Summarize the goal(s) of the problem in your own words.\n",
    "\n",
    "---"
   ]
  },
  {
   "cell_type": "markdown",
   "id": "d730de35",
   "metadata": {},
   "source": [
    "This is similar to the previous coding problem, but now the goal involves writing a function that can solve the problem for any combination of mass and drag coefficient.\n",
    "It also asks that the function finds the terminal velocity."
   ]
  },
  {
   "cell_type": "markdown",
   "id": "7cbe6723",
   "metadata": {},
   "source": [
    "---\n",
    "\n",
    "Describe your plan to solve the problem.\n",
    "\n",
    "---"
   ]
  },
  {
   "cell_type": "markdown",
   "id": "8f227130",
   "metadata": {},
   "source": [
    "I'll start from my old code and move most of it into an indented code block beneath a function signature.\n",
    "Then I'll add some logic to check whether the velocity is changing from one step to the next. When the velocity stops changing, I'll know I'm at the terminal velocity and I can stop and display that value."
   ]
  },
  {
   "cell_type": "markdown",
   "id": "94e06833",
   "metadata": {},
   "source": [
    "---\n",
    "\n",
    "Write Python **code** to solve the problem\n",
    "\n",
    "---"
   ]
  },
  {
   "cell_type": "markdown",
   "id": "c41c5c3c",
   "metadata": {},
   "source": [
    "Remember incremental development - just check that the code from last time runs!"
   ]
  },
  {
   "cell_type": "code",
   "execution_count": 24,
   "id": "50eb0c81",
   "metadata": {},
   "outputs": [
    {
     "name": "stdout",
     "output_type": "stream",
     "text": [
      "At time 0 sec, the velocity is 0.00 m/s\n",
      "At time 10 sec, the velocity is 46.92 m/s\n",
      "At time 20 sec, the velocity is 55.37 m/s\n",
      "At time 30 sec, the velocity is 56.89 m/s\n",
      "At time 40 sec, the velocity is 57.16 m/s\n",
      "At time 50 sec, the velocity is 57.21 m/s\n",
      "At time 60 sec, the velocity is 57.22 m/s\n",
      "At time 70 sec, the velocity is 57.22 m/s\n",
      "At time 80 sec, the velocity is 57.22 m/s\n",
      "At time 90 sec, the velocity is 57.22 m/s\n"
     ]
    }
   ],
   "source": [
    "# Assign values to known parameters\n",
    "g = 9.81  # gravitational acceleration (m/s/s)\n",
    "e = 2.71828  # Euler's number\n",
    "m = 70  # parachutist's mass (kg)\n",
    "c = 12  # drag coefiecient (kg/s)\n",
    "\n",
    "# use a for loop to calculate and print the velocity for several (maybe 10?)\n",
    "# time values from 0 to 100.\n",
    "for i in range(10):\n",
    "    t = 10 * i  # time in seconds\n",
    "    v = (g * m / c) * (1 - e ** (-c * t / m))\n",
    "    print(f\"At time {t} sec, the velocity is {v:0.2f} m/s\")\n"
   ]
  },
  {
   "cell_type": "markdown",
   "id": "d8a3018e",
   "metadata": {},
   "source": [
    "Next, add function signature just to make sure the syntax is OK."
   ]
  },
  {
   "cell_type": "code",
   "execution_count": 25,
   "id": "5a2c63a8",
   "metadata": {},
   "outputs": [
    {
     "name": "stdout",
     "output_type": "stream",
     "text": [
      "At time 0 sec, the velocity is 0.00 m/s\n",
      "At time 10 sec, the velocity is 46.92 m/s\n",
      "At time 20 sec, the velocity is 55.37 m/s\n",
      "At time 30 sec, the velocity is 56.89 m/s\n",
      "At time 40 sec, the velocity is 57.16 m/s\n",
      "At time 50 sec, the velocity is 57.21 m/s\n",
      "At time 60 sec, the velocity is 57.22 m/s\n",
      "At time 70 sec, the velocity is 57.22 m/s\n",
      "At time 80 sec, the velocity is 57.22 m/s\n",
      "At time 90 sec, the velocity is 57.22 m/s\n"
     ]
    }
   ],
   "source": [
    "def terminal_velocity(mass, drag):\n",
    "    pass\n",
    "\n",
    "# Assign values to known parameters\n",
    "g = 9.81  # gravitational acceleration (m/s/s)\n",
    "e = 2.71828  # Euler's number\n",
    "m = 70  # parachutist's mass (kg)\n",
    "c = 12  # drag coefiecient (kg/s)\n",
    "\n",
    "# use a for loop to calculate and print the velocity for several (maybe 10?)\n",
    "# time values from 0 to 100.\n",
    "for i in range(10):\n",
    "    t = 10 * i  # time in seconds\n",
    "    v = (g * m / c) * (1 - e ** (-c * t / m))\n",
    "    print(f\"At time {t} sec, the velocity is {v:0.2f} m/s\")\n"
   ]
  },
  {
   "cell_type": "code",
   "execution_count": 5,
   "id": "5cf7c424",
   "metadata": {},
   "outputs": [
    {
     "name": "stdout",
     "output_type": "stream",
     "text": [
      "Parachutist: mass = 70 kg, drag coeff. = 0.1 kg/s ====> Terminal velocity = 914.15 m/s\n"
     ]
    }
   ],
   "source": [
    "# Your code here\n",
    "\n",
    "def terminal_velocity(mass, drag, g=9.81):\n",
    "    # g in m/s/s\n",
    "    # mass in kg\n",
    "    # drag in kg/s\n",
    "    e = 2.71828  # Euler's number\n",
    "\n",
    "    for i in range(11):\n",
    "        t = 10 * i  # time in seconds\n",
    "        vel = (g * mass / drag) * (1 - e ** (-c * t / mass))\n",
    "\n",
    "    print(f\"Parachutist: mass = {mass} kg, drag coeff. = {drag} kg/s ====> Terminal velocity = {vel:.2f} m/s\")\n",
    "    return vel\n",
    "\n",
    "\n",
    "# Assign values to known parameters\n",
    "m = 70  # parachutist's mass (kg)\n",
    "c = 0.1  # drag coeffiecient (kg/s)\n",
    "\n",
    "# previous result was 57.22 m/s\n",
    "v = terminal_velocity(mass=m, drag=c)\n",
    "\n",
    "\n",
    "    "
   ]
  },
  {
   "cell_type": "code",
   "execution_count": 9,
   "id": "69697371",
   "metadata": {},
   "outputs": [
    {
     "name": "stdout",
     "output_type": "stream",
     "text": [
      "Parachutist: mass = 70 kg, drag coeff. = 0.01 kg/s ====> Terminal velocity = 52236.64 m/s\n"
     ]
    }
   ],
   "source": [
    "# Your code here\n",
    "\n",
    "\n",
    "def terminal_velocity(mass, drag, g=9.81):\n",
    "    # g in m/s/s\n",
    "    # mass in kg\n",
    "    # drag in kg/s\n",
    "    e = 2.71828  # Euler's number\n",
    "\n",
    "    for i in range(1002):\n",
    "        t = 10 * i  # time in seconds\n",
    "        vel = (g * mass / drag) * (1 - e ** (-c * t / mass))\n",
    "\n",
    "    print(\n",
    "        f\"Parachutist: mass = {mass} kg, drag coeff. = {drag} kg/s ====> Terminal velocity = {vel:.2f} m/s\"\n",
    "    )\n",
    "    return vel\n",
    "\n",
    "\n",
    "# Assign values to known parameters\n",
    "m = 70  # parachutist's mass (kg)\n",
    "c = 0.01  # drag coeffiecient (kg/s)\n",
    "\n",
    "# previous result was 57.22 m/s\n",
    "v = terminal_velocity(mass=m, drag=c)\n"
   ]
  },
  {
   "cell_type": "code",
   "execution_count": 23,
   "id": "eb167475",
   "metadata": {},
   "outputs": [
    {
     "name": "stdout",
     "output_type": "stream",
     "text": [
      "Parachutist: mass = 887 kg, drag coeff. = 12 kg/s ====> Terminal velocity = 725.12 m/s\n"
     ]
    }
   ],
   "source": [
    "# Your code here\n",
    "def terminal_velocity(mass, drag, g=9.81):\n",
    "    # g in m/s/s\n",
    "    # mass in kg\n",
    "    # drag in kg/s\n",
    "    e = 2.71828  # Euler's number\n",
    "\n",
    "    old_vel = -1\n",
    "    vel = 0\n",
    "    t = 1\n",
    "\n",
    "    while vel > old_vel:\n",
    "        old_vel = vel\n",
    "        vel = (g * mass / drag) * (1 - e ** (-c * t / mass))\n",
    "        t += 1\n",
    "\n",
    "    print(\n",
    "        f\"Parachutist: mass = {mass} kg, drag coeff. = {drag} kg/s ====> Terminal velocity = {vel:.2f} m/s\"\n",
    "    )\n",
    "    return vel\n",
    "\n",
    "\n",
    "# Assign values to known parameters\n",
    "m = 887  # parachutist's mass (kg)\n",
    "c = 12  # drag coeffiecient (kg/s)\n",
    "\n",
    "# previous result was 57.22 m/s\n",
    "v = terminal_velocity(mass=m, drag=c)\n"
   ]
  },
  {
   "cell_type": "markdown",
   "id": "0be4e9f3",
   "metadata": {},
   "source": [
    "---\n",
    "\n",
    "Looking back at your code and the resulting output, reflect on whether your code achieved the problem goal(s). To the extent the problem models a physical system, how realistic does the behavior seem? Are there any changes you would make to your approach if you were to solve this problem again (e.g., to make your code more re-usable or to avoid dead ends)?\n",
    "\n",
    "---"
   ]
  },
  {
   "cell_type": "markdown",
   "id": "7d0e3194",
   "metadata": {},
   "source": []
  }
 ],
 "metadata": {
  "kernelspec": {
   "display_name": "tme-310a-2025 (3.12.0)",
   "language": "python",
   "name": "python3"
  },
  "language_info": {
   "codemirror_mode": {
    "name": "ipython",
    "version": 3
   },
   "file_extension": ".py",
   "mimetype": "text/x-python",
   "name": "python",
   "nbconvert_exporter": "python",
   "pygments_lexer": "ipython3",
   "version": "3.12.0"
  }
 },
 "nbformat": 4,
 "nbformat_minor": 5
}
