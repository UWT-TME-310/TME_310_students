{
 "cells": [
  {
   "cell_type": "markdown",
   "id": "a99f6978",
   "metadata": {},
   "source": [
    "# Parachute problem\n",
    "\n",
    "What's the terminal velocity of someone falling with a parachute?\n",
    "(this is our **system**)\n",
    "\n",
    "![](../images/parachute_fbd_1.png){width=25%}\n",
    "\n",
    "## Assumptions\n",
    "Let's say we have a **model** for this problem:\n",
    "\n",
    "$$\\frac{dv}{dt} = g -\\frac{c}{m}v$$\n",
    "\n",
    "where $g$ is gravitational acceleration, $c$ is a drag coefficient, $m$ is the parachutist's mass, and $v$ is their velocity.\n",
    "The solution to this differential equation is:\n",
    "\n",
    "$$ v(t) = \\frac{gm}{c}(1 - e^{ct/m})$$\n",
    "\n",
    "Use the following parameters for the parachutist:\n",
    "\n",
    "| Parameter | Value |\n",
    "|----|----|\n",
    "|Mass | 70 kg |\n",
    "| Drag coefficient | 12 kg/s |\n"
   ]
  },
  {
   "cell_type": "markdown",
   "id": "78824b73",
   "metadata": {},
   "source": [
    "Summarize the goal(s) of the problem in your own words."
   ]
  },
  {
   "cell_type": "markdown",
   "id": "d730de35",
   "metadata": {},
   "source": [
    "Use one of the provided equations to find the terminal velocity of a parachutist weighing 70 kg with a drag coefficient of 12 kg/s."
   ]
  },
  {
   "cell_type": "markdown",
   "id": "7cbe6723",
   "metadata": {},
   "source": [
    "Describe your plan to solve the problem."
   ]
  },
  {
   "cell_type": "markdown",
   "id": "8f227130",
   "metadata": {},
   "source": [
    "It looks like the second equation gives the velocity directly, so I'll just use that one. If I plug a big value for $t$ into the equation, it will probably show the terminal velocity. But I want to be able to check that, so I'll calculate velocity for several values of $t$ and confirm that the velocity stops changing (i.e., reaches it's terminal value).\n",
    "\n",
    "Steps:\n",
    "* assign values to known parameters\n",
    "* use a for loop to calculate and print the velocity for several (maybe 10?) time values from 0 to 100."
   ]
  },
  {
   "cell_type": "code",
   "execution_count": 13,
   "id": "5cf7c424",
   "metadata": {},
   "outputs": [
    {
     "name": "stdout",
     "output_type": "stream",
     "text": [
      "At time 0 sec, the velocity is 0.00 m/s\n",
      "At time 10 sec, the velocity is 46.92 m/s\n",
      "At time 20 sec, the velocity is 55.37 m/s\n",
      "At time 30 sec, the velocity is 56.89 m/s\n",
      "At time 40 sec, the velocity is 57.16 m/s\n",
      "At time 50 sec, the velocity is 57.21 m/s\n",
      "At time 60 sec, the velocity is 57.22 m/s\n",
      "At time 70 sec, the velocity is 57.22 m/s\n",
      "At time 80 sec, the velocity is 57.22 m/s\n",
      "At time 90 sec, the velocity is 57.22 m/s\n"
     ]
    }
   ],
   "source": [
    "# Assign values to known parameters\n",
    "g = 9.81 # gravitational acceleration (m/s/s)\n",
    "e = 2.71828 # Euler's number\n",
    "m = 70 # parachutist's mass (kg)\n",
    "c = 12 # drag coefiecient (kg/s)\n",
    "\n",
    "# use a for loop to calculate and print the velocity for several (maybe 10?) \n",
    "# time values from 0 to 100.\n",
    "for i in range(10):\n",
    "    t = 10*i # time in seconds\n",
    "    v = (g*m/c) * (1 - e**(-c*t/m))\n",
    "    print(f\"At time {t} sec, the velocity is {v:0.2f} m/s\")\n"
   ]
  },
  {
   "cell_type": "code",
   "execution_count": 14,
   "id": "c5e77636",
   "metadata": {},
   "outputs": [
    {
     "name": "stdout",
     "output_type": "stream",
     "text": [
      "The terminal velocity is 57.22 m/s\n"
     ]
    }
   ],
   "source": [
    "print(f\"The terminal velocity is {v:0.2f} m/s\")"
   ]
  },
  {
   "cell_type": "markdown",
   "id": "0be4e9f3",
   "metadata": {},
   "source": [
    "Looking back at your code and the resulting output, reflect on whether your code achieved the problem goal(s). To the extent the problem models a physical system, how realistic does the behavior seem? Are there any changes you would make to your approach if you were to solve this problem again (e.g., to make your code more re-usable or to avoid dead ends)?"
   ]
  },
  {
   "cell_type": "markdown",
   "id": "7d0e3194",
   "metadata": {},
   "source": [
    "Yes, the code achieves the problem goal. The behavior seems realistic because:\n",
    "* The sign of the velocity is the same as acceleration (falling downward).\n",
    "* After about 50 seconds, the velocity stays the same.\n",
    "* When the drag coefficient is small, the velocity increases linearly.\n",
    "\n",
    "I don't know enough about parachuting to know if 57 m/s is a reasonable terminal velocity, but it *sounds* way too fast to be safe. A quick google search indicates a good landing speed for a parachute is around 7 m/s. \n",
    "\n",
    "It would be nice if my code saved the velocity and time values so I could plot them. It would be hard to use this code to check the terminal velocity of several different combinations of mass and drag coefficient.\n",
    "\n"
   ]
  },
  {
   "cell_type": "markdown",
   "id": "82b4e52c",
   "metadata": {},
   "source": []
  }
 ],
 "metadata": {
  "kernelspec": {
   "display_name": "tme-310a-2025 (3.12.0)",
   "language": "python",
   "name": "python3"
  },
  "language_info": {
   "codemirror_mode": {
    "name": "ipython",
    "version": 3
   },
   "file_extension": ".py",
   "mimetype": "text/x-python",
   "name": "python",
   "nbconvert_exporter": "python",
   "pygments_lexer": "ipython3",
   "version": "3.12.0"
  }
 },
 "nbformat": 4,
 "nbformat_minor": 5
}
