{
 "cells": [
  {
   "cell_type": "markdown",
   "id": "a99f6978",
   "metadata": {},
   "source": [
    "# Parachute problem\n",
    "\n",
    "What's the terminal velocity of someone falling with a parachute?\n",
    "(this is our **system**)\n",
    "\n",
    "\n",
    "## Assumptions\n",
    "Let's say we have a **model** for this problem:\n",
    "\n",
    "$$\\frac{dv}{dt} = g -\\frac{c}{m}v$$\n",
    "\n",
    "where $g$ is gravitational acceleration, $c$ is a drag coefficient, $m$ is the parachutist's mass, and $v$ is their velocity.\n",
    "The solution to this differential equation is:\n",
    "\n",
    "$$ v(t) = \\frac{gm}{c}(1 - e^{ct/m})$$\n",
    "\n",
    "Write a **function** that finds the terminal velocity of a parachutist of a given mass and drag coefficient.\n"
   ]
  },
  {
   "cell_type": "markdown",
   "id": "78824b73",
   "metadata": {},
   "source": [
    "--- \n",
    "\n",
    "Summarize the goal(s) of the problem in your own words.\n",
    "\n",
    "---"
   ]
  },
  {
   "cell_type": "markdown",
   "id": "d730de35",
   "metadata": {},
   "source": [
    "Similar as last time, but now use a functions. And the function itself should find the terminal velocity"
   ]
  },
  {
   "cell_type": "markdown",
   "id": "7cbe6723",
   "metadata": {},
   "source": [
    "---\n",
    "\n",
    "Describe your plan to solve the problem.\n",
    "\n",
    "---"
   ]
  },
  {
   "cell_type": "markdown",
   "id": "8f227130",
   "metadata": {},
   "source": [
    "Copy code from the previous exercise.\n",
    "Start a function signature and move content into it incrementally.\n",
    "Inside the function, check wether velocity is changing as time is increased incrementally."
   ]
  },
  {
   "cell_type": "markdown",
   "id": "94e06833",
   "metadata": {},
   "source": [
    "---\n",
    "\n",
    "Write Python **code** to solve the problem\n",
    "\n",
    "---"
   ]
  },
  {
   "cell_type": "code",
   "execution_count": 18,
   "id": "5cf7c424",
   "metadata": {},
   "outputs": [
    {
     "name": "stdout",
     "output_type": "stream",
     "text": [
      "For a parachutist with mass of 70 kg and drag coeff. of 12 kg/s, the terminal velocity is 57.22 m/s\n"
     ]
    }
   ],
   "source": [
    "# Your code here\n",
    "def terminal_velocity(mass, drag, g=9.81):\n",
    "    # mass in kg\n",
    "    # drag in kg/s\n",
    "    # g in m/s/s\n",
    "\n",
    "    e = 2.718 # Euler's number\n",
    "\n",
    "    new_vel = 0\n",
    "    old_vel = -1\n",
    "    t = 0\n",
    "\n",
    "    while old_vel < new_vel:\n",
    "        t += 1\n",
    "        old_vel = new_vel\n",
    "        new_vel = (g * mass / drag) * (1 - e**( -drag * t / mass))\n",
    "    \n",
    "    print(f\"For a parachutist with mass of {mass} kg and drag coeff. of {drag} kg/s, the terminal velocity is {new_vel:.2f} m/s\")\n",
    "\n",
    "    pass\n",
    "\n",
    "# assign values to known parameters\n",
    "m = 70 # kg\n",
    "c = 12 # kg/s\n",
    "\n",
    "terminal_velocity(m,c)\n"
   ]
  },
  {
   "cell_type": "markdown",
   "id": "0be4e9f3",
   "metadata": {},
   "source": [
    "---\n",
    "\n",
    "Looking back at your code and the resulting output, reflect on whether your code achieved the problem goal(s). To the extent the problem models a physical system, how realistic does the behavior seem? Are there any changes you would make to your approach if you were to solve this problem again (e.g., to make your code more re-usable or to avoid dead ends)?\n",
    "\n",
    "---"
   ]
  },
  {
   "cell_type": "markdown",
   "id": "7d0e3194",
   "metadata": {},
   "source": [
    "The code achieves the goal - it now uses a function to find the terminal velocity. It checks that velocity has not changed to determine that the value is the terminal value.\n",
    "\n",
    "The behavior still seems realisitc:\n",
    "* increasing mass increases the terminal velocity\n",
    "* increasing drag coefficient decreases the terminal velocity\n",
    "\n",
    "I'd like to modify the code to create plots of velocity vs. time."
   ]
  },
  {
   "cell_type": "markdown",
   "id": "634b33ff",
   "metadata": {},
   "source": []
  }
 ],
 "metadata": {
  "kernelspec": {
   "display_name": "Python 3",
   "language": "python",
   "name": "python3"
  },
  "language_info": {
   "codemirror_mode": {
    "name": "ipython",
    "version": 3
   },
   "file_extension": ".py",
   "mimetype": "text/x-python",
   "name": "python",
   "nbconvert_exporter": "python",
   "pygments_lexer": "ipython3",
   "version": "3.11.13"
  }
 },
 "nbformat": 4,
 "nbformat_minor": 5
}
