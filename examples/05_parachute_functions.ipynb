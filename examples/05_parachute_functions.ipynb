{
 "cells": [
  {
   "cell_type": "markdown",
   "id": "a99f6978",
   "metadata": {},
   "source": [
    "# Parachute problem\n",
    "\n",
    "What's the terminal velocity of someone falling with a parachute?\n",
    "(this is our **system**)\n",
    "\n",
    "\n",
    "## Assumptions\n",
    "Let's say we have a **model** for this problem:\n",
    "\n",
    "$$\\frac{dv}{dt} = g -\\frac{c}{m}v$$\n",
    "\n",
    "where $g$ is gravitational acceleration, $c$ is a drag coefficient, $m$ is the parachutist's mass, and $v$ is their velocity.\n",
    "The solution to this differential equation is:\n",
    "\n",
    "$$ v(t) = \\frac{gm}{c}(1 - e^{ct/m})$$\n",
    "\n",
    "Write a **function** that finds the terminal velocity of a parachutist of a given mass and drag coefficient.\n"
   ]
  },
  {
   "cell_type": "markdown",
   "id": "78824b73",
   "metadata": {},
   "source": [
    "--- \n",
    "\n",
    "Summarize the goal(s) of the problem in your own words.\n",
    "\n",
    "---"
   ]
  },
  {
   "cell_type": "markdown",
   "id": "d730de35",
   "metadata": {},
   "source": []
  },
  {
   "cell_type": "markdown",
   "id": "7cbe6723",
   "metadata": {},
   "source": [
    "---\n",
    "\n",
    "Describe your plan to solve the problem.\n",
    "\n",
    "---"
   ]
  },
  {
   "cell_type": "markdown",
   "id": "8f227130",
   "metadata": {},
   "source": []
  },
  {
   "cell_type": "markdown",
   "id": "94e06833",
   "metadata": {},
   "source": [
    "---\n",
    "\n",
    "Write Python **code** to solve the problem\n",
    "\n",
    "---"
   ]
  },
  {
   "cell_type": "code",
   "execution_count": 3,
   "id": "5cf7c424",
   "metadata": {},
   "outputs": [],
   "source": [
    "# Your code here\n",
    "\n"
   ]
  },
  {
   "cell_type": "markdown",
   "id": "0be4e9f3",
   "metadata": {},
   "source": [
    "---\n",
    "\n",
    "Looking back at your code and the resulting output, reflect on whether your code achieved the problem goal(s). To the extent the problem models a physical system, how realistic does the behavior seem? Are there any changes you would make to your approach if you were to solve this problem again (e.g., to make your code more re-usable or to avoid dead ends)?\n",
    "\n",
    "---"
   ]
  },
  {
   "cell_type": "markdown",
   "id": "7d0e3194",
   "metadata": {},
   "source": []
  }
 ],
 "metadata": {
  "kernelspec": {
   "display_name": "tme-310a-2025 (3.12.0)",
   "language": "python",
   "name": "python3"
  },
  "language_info": {
   "codemirror_mode": {
    "name": "ipython",
    "version": 3
   },
   "file_extension": ".py",
   "mimetype": "text/x-python",
   "name": "python",
   "nbconvert_exporter": "python",
   "pygments_lexer": "ipython3",
   "version": "3.12.0"
  }
 },
 "nbformat": 4,
 "nbformat_minor": 5
}
