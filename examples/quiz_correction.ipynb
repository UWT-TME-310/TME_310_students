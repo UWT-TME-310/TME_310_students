{
 "cells": [
  {
   "cell_type": "markdown",
   "id": "40d24e05",
   "metadata": {},
   "source": [
    "# Quiz 1 extra credit\n",
    "\n",
    "Questions being corrected: 1, 3.a, 5"
   ]
  },
  {
   "cell_type": "markdown",
   "id": "ad0b1795",
   "metadata": {},
   "source": [
    "## Question 1\n",
    "\n",
    "Correct answer: C - Carry out the plan\n",
    "\n",
    "Why this answer is correct: The **code** portion of the homework is where do the work that accomplishes what the homework problem is asking for."
   ]
  },
  {
   "cell_type": "markdown",
   "id": "6f693dab",
   "metadata": {},
   "source": [
    "## Question 3.a\n",
    "\n",
    "Correct answer: In the simulation phase, we do calculations with the model. We vary the input parameters (like temperature, pressure, flow rate) and the model outputs predicted system responses. "
   ]
  },
  {
   "cell_type": "markdown",
   "id": "e69b7ebb",
   "metadata": {},
   "source": [
    "## Question 5\n",
    "\n",
    "Correct answer: C - `2.5`\n",
    "\n",
    "Why this answer is correct: See the code below."
   ]
  },
  {
   "cell_type": "code",
   "execution_count": 1,
   "id": "6757de4b",
   "metadata": {},
   "outputs": [
    {
     "name": "stdout",
     "output_type": "stream",
     "text": [
      "2.5\n"
     ]
    }
   ],
   "source": [
    "def my_func(x, y=2):\n",
    "    z = (x**2 + y**2) / (x * y)\n",
    "    return z\n",
    "\n",
    "print(my_func(2,4))"
   ]
  },
  {
   "cell_type": "code",
   "execution_count": null,
   "id": "0f3f184c",
   "metadata": {},
   "outputs": [],
   "source": []
  }
 ],
 "metadata": {
  "kernelspec": {
   "display_name": "Python 3",
   "language": "python",
   "name": "python3"
  },
  "language_info": {
   "codemirror_mode": {
    "name": "ipython",
    "version": 3
   },
   "file_extension": ".py",
   "mimetype": "text/x-python",
   "name": "python",
   "nbconvert_exporter": "python",
   "pygments_lexer": "ipython3",
   "version": "3.12.4"
  }
 },
 "nbformat": 4,
 "nbformat_minor": 5
}
