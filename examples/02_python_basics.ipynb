{
 "cells": [
  {
   "cell_type": "markdown",
   "metadata": {},
   "source": [
    "---\n",
    "title: Python Basics for Computational Physical Modeling\n",
    "execute:\n",
    "  enabled: true\n",
    "  echo: true\n",
    "  error: true\n",
    "  output: true\n",
    "jupyter: python3\n",
    "format: \n",
    "  html:\n",
    "    code-overflow: wrap\n",
    "---\n",
    "\n",
    "Welcome to Python! This notebook will introduce you to some basic Python concepts that you'll use in TME 310.\n",
    "\n",
    "## What will be covered\n",
    "\n",
    "1.  **Data Types** - Kinds of information\n",
    "2.  **Variables** - Where information is stored\n",
    "3.  **Numbers and Math** - How calculations are done\n",
    "4.  **Strings** - Text objects\n",
    "5.  **Lists** - A built in way to organize data\n",
    "6.  **Conditionals** - How we ask questions about data\n",
    "7.  **Loops** - Doing repetitive things automatically\n",
    "\n",
    "## Data Types\n",
    "\n",
    "There are different kinds of information we can store in Python - these are called **types**. Python has several built in data types. Today, we'll cover some of the most commonly-used ones:\n",
    "\n",
    "-   `int` (numeric integers)\n",
    "-   `float` (numeric real numbers)\n",
    "-   `bool` (true or false)\n",
    "-   `string` (text)\n",
    "-   `list` (collection of other objects)\n",
    "\n",
    "### `int`\n",
    "\n",
    "An `int` is an integer value (e.g., `1` or `-395`). In Python, we can check the type of an object with the built-in `type()` function."
   ]
  },
  {
   "cell_type": "code",
   "execution_count": 1,
   "metadata": {},
   "outputs": [
    {
     "data": {
      "text/plain": [
       "int"
      ]
     },
     "execution_count": 1,
     "metadata": {},
     "output_type": "execute_result"
    }
   ],
   "source": [
    "# An integer\n",
    "type(1)"
   ]
  },
  {
   "cell_type": "code",
   "execution_count": 2,
   "metadata": {},
   "outputs": [
    {
     "data": {
      "text/plain": [
       "int"
      ]
     },
     "execution_count": 2,
     "metadata": {},
     "output_type": "execute_result"
    }
   ],
   "source": [
    "# Another integer\n",
    "type(-395)"
   ]
  },
  {
   "cell_type": "markdown",
   "metadata": {},
   "source": [
    "### `float`\n",
    "\n",
    "A `float` is another numeric data type in Python. Unlike an `int`, a `float` is a real number that can have several decimal places. For example:"
   ]
  },
  {
   "cell_type": "code",
   "execution_count": 3,
   "metadata": {},
   "outputs": [
    {
     "data": {
      "text/plain": [
       "float"
      ]
     },
     "execution_count": 3,
     "metadata": {},
     "output_type": "execute_result"
    }
   ],
   "source": [
    "# A floating point number\n",
    "type(9.81)"
   ]
  },
  {
   "cell_type": "markdown",
   "metadata": {},
   "source": [
    "Note that any number with a decimal place will be interpreted as a `float` by Python, even if there's nothing after the decimal place:"
   ]
  },
  {
   "cell_type": "code",
   "execution_count": 4,
   "metadata": {},
   "outputs": [
    {
     "data": {
      "text/plain": [
       "float"
      ]
     },
     "execution_count": 4,
     "metadata": {},
     "output_type": "execute_result"
    }
   ],
   "source": [
    "# This is also a floating point number\n",
    "type(1.)"
   ]
  },
  {
   "cell_type": "markdown",
   "metadata": {},
   "source": [
    "### `bool`\n",
    "\n",
    "A `bool` (boolean) represents True or False values. These are useful for yes/no questions."
   ]
  },
  {
   "cell_type": "code",
   "execution_count": 5,
   "metadata": {},
   "outputs": [
    {
     "data": {
      "text/plain": [
       "bool"
      ]
     },
     "execution_count": 5,
     "metadata": {},
     "output_type": "execute_result"
    }
   ],
   "source": [
    "# In Python True and False are capitalized\n",
    "type(True)"
   ]
  },
  {
   "cell_type": "code",
   "execution_count": 6,
   "metadata": {},
   "outputs": [
    {
     "data": {
      "text/plain": [
       "bool"
      ]
     },
     "execution_count": 6,
     "metadata": {},
     "output_type": "execute_result"
    }
   ],
   "source": [
    "type(False)"
   ]
  },
  {
   "cell_type": "markdown",
   "metadata": {},
   "source": [
    "### `str`\n",
    "\n",
    "A string (or `str`) represents text. Strings are surrounded by quotes. Either single or double quotes can be used to surround strings:"
   ]
  },
  {
   "cell_type": "code",
   "execution_count": 7,
   "metadata": {},
   "outputs": [
    {
     "data": {
      "text/plain": [
       "str"
      ]
     },
     "execution_count": 7,
     "metadata": {},
     "output_type": "execute_result"
    }
   ],
   "source": [
    "# A double-quoted string\n",
    "type(\"hello\")"
   ]
  },
  {
   "cell_type": "code",
   "execution_count": 8,
   "metadata": {},
   "outputs": [
    {
     "data": {
      "text/plain": [
       "str"
      ]
     },
     "execution_count": 8,
     "metadata": {},
     "output_type": "execute_result"
    }
   ],
   "source": [
    "# A single-quoted string\n",
    "type('world')"
   ]
  },
  {
   "cell_type": "markdown",
   "metadata": {},
   "source": [
    "It's considered best practice to use double quotes for strings even though single quotes are accepted by Python. More importantly, whichever kind of quote starts the string has to be used to close it, or you'll get a syntax error!"
   ]
  },
  {
   "cell_type": "code",
   "execution_count": 9,
   "metadata": {},
   "outputs": [
    {
     "ename": "SyntaxError",
     "evalue": "unterminated string literal (detected at line 2) (43603183.py, line 2)",
     "output_type": "error",
     "traceback": [
      "\u001b[0;36m  Cell \u001b[0;32mIn[9], line 2\u001b[0;36m\u001b[0m\n\u001b[0;31m    type('mismatch\")\u001b[0m\n\u001b[0m         ^\u001b[0m\n\u001b[0;31mSyntaxError\u001b[0m\u001b[0;31m:\u001b[0m unterminated string literal (detected at line 2)\n"
     ]
    }
   ],
   "source": [
    "# This will cause an error!\n",
    "type('mismatch\")"
   ]
  },
  {
   "cell_type": "markdown",
   "metadata": {},
   "source": [
    "### `list`\n",
    "\n",
    "A `list` is a collection of other objects. Lists are surrounded by square brackets `[]` with their elements separated by commas."
   ]
  },
  {
   "cell_type": "code",
   "execution_count": 10,
   "metadata": {},
   "outputs": [
    {
     "data": {
      "text/plain": [
       "list"
      ]
     },
     "execution_count": 10,
     "metadata": {},
     "output_type": "execute_result"
    }
   ],
   "source": [
    "# A list of integers\n",
    "type([1, 2, 3])"
   ]
  },
  {
   "cell_type": "markdown",
   "metadata": {},
   "source": [
    "The elements of a list don't need to be the same type."
   ]
  },
  {
   "cell_type": "code",
   "execution_count": 11,
   "metadata": {},
   "outputs": [
    {
     "data": {
      "text/plain": [
       "list"
      ]
     },
     "execution_count": 11,
     "metadata": {},
     "output_type": "execute_result"
    }
   ],
   "source": [
    "# A list of mixed types\n",
    "type([1, \"two\", 3.0, True])"
   ]
  },
  {
   "cell_type": "code",
   "execution_count": 12,
   "metadata": {},
   "outputs": [
    {
     "data": {
      "text/plain": [
       "list"
      ]
     },
     "execution_count": 12,
     "metadata": {},
     "output_type": "execute_result"
    }
   ],
   "source": [
    "# Even another list:\n",
    "type([1, 2, [\"I'm\", \"a\", \"list\"], 4])"
   ]
  },
  {
   "cell_type": "markdown",
   "metadata": {},
   "source": [
    "## Variables\n",
    "\n",
    "Variables are names that refer to objects. We create variables using the assignment operator `=`."
   ]
  },
  {
   "cell_type": "code",
   "execution_count": 13,
   "metadata": {},
   "outputs": [
    {
     "data": {
      "text/plain": [
       "5"
      ]
     },
     "execution_count": 13,
     "metadata": {},
     "output_type": "execute_result"
    }
   ],
   "source": [
    "x = 5\n",
    "x"
   ]
  },
  {
   "cell_type": "markdown",
   "metadata": {},
   "source": [
    "Jupyter will automatically display the output of the last line in a cell if it is an expression or variable, and not assigned to anything. That's why writing `x` on the last line in the cell above resulted in the value assigned to `x` being displayed.\n",
    "\n",
    "But that automatic display only happens for the **last line** in a cell."
   ]
  },
  {
   "cell_type": "code",
   "execution_count": 14,
   "metadata": {},
   "outputs": [],
   "source": [
    "# No output here\n",
    "y = 10\n",
    "y\n",
    "z = 37"
   ]
  },
  {
   "cell_type": "markdown",
   "metadata": {},
   "source": [
    "In general, it's better to explicitly tell Python what to display with the `print()` function, which does not need to be on any particular line."
   ]
  },
  {
   "cell_type": "code",
   "execution_count": 15,
   "metadata": {},
   "outputs": [
    {
     "name": "stdout",
     "output_type": "stream",
     "text": [
      "10\n"
     ]
    }
   ],
   "source": [
    "# Printing the value of y that wasn't shown above\n",
    "print(y)"
   ]
  },
  {
   "cell_type": "markdown",
   "metadata": {},
   "source": [
    "Any data type can be assigned to a variable:"
   ]
  },
  {
   "cell_type": "code",
   "execution_count": 16,
   "metadata": {},
   "outputs": [],
   "source": [
    "course = \"TME 310A\"\n",
    "students = 25\n",
    "max_grade = 4.0\n",
    "fun = True"
   ]
  },
  {
   "cell_type": "markdown",
   "metadata": {},
   "source": [
    "The value of one variable can be assigned to another, too:"
   ]
  },
  {
   "cell_type": "code",
   "execution_count": 17,
   "metadata": {},
   "outputs": [
    {
     "name": "stdout",
     "output_type": "stream",
     "text": [
      "5\n",
      "5\n"
     ]
    }
   ],
   "source": [
    "a = 5\n",
    "print(a)\n",
    "\n",
    "# Assigning the value of a to b\n",
    "b = a\n",
    "print(b)"
   ]
  },
  {
   "cell_type": "markdown",
   "metadata": {},
   "source": [
    "::: callout-note\n",
    "## Caution\n",
    "\n",
    "In the case above, `a` and `b` are both of type `int`. If the value of `a` is changed at some future point in the code, the value of `b` will be unaffected. But this is **not the case** for all data types, as we'll see in a few sections.\n",
    ":::\n",
    "\n",
    "## Numbers and Math\n",
    "\n",
    "Most arithmetic operations in Python act like you'd expect. For example:"
   ]
  },
  {
   "cell_type": "code",
   "execution_count": 18,
   "metadata": {},
   "outputs": [
    {
     "name": "stdout",
     "output_type": "stream",
     "text": [
      "54\n"
     ]
    }
   ],
   "source": [
    "# Addition\n",
    "w = 20 + 34\n",
    "print(w)"
   ]
  },
  {
   "cell_type": "code",
   "execution_count": 19,
   "metadata": {},
   "outputs": [
    {
     "name": "stdout",
     "output_type": "stream",
     "text": [
      "6\n"
     ]
    }
   ],
   "source": [
    "# Subtraction\n",
    "x = 10 - 4\n",
    "print(x)"
   ]
  },
  {
   "cell_type": "code",
   "execution_count": 20,
   "metadata": {},
   "outputs": [
    {
     "name": "stdout",
     "output_type": "stream",
     "text": [
      "21\n"
     ]
    }
   ],
   "source": [
    "# Multiplication\n",
    "y = 3 * 7\n",
    "print(y)"
   ]
  },
  {
   "cell_type": "markdown",
   "metadata": {},
   "source": [
    "::: callout-note\n",
    "## Caution\n",
    "\n",
    "This is a good place to note one of the potential sources of error in Jupyter notebooks.\n",
    "\n",
    "Now that we've just overwritten the variable `y` with a new value, go back to the **Variables** section and run the cell that contains `print(y)`. Python will always interpret variables based on their values **at the time of execution**, which may not reflect the expected values based on a linear reading of the notebook.\n",
    ":::\n",
    "\n",
    "Division in Python will often look how you'd expect, but there are some details worth examining. The basic division operator is `/`, which works on `int` and `float` data types, but always returns a `float`. This is because it converts anything it's operating on into a `float` before performing division. So, even if it's used between two integers and the result could be represented as an integer, the resulting data type will be `float`."
   ]
  },
  {
   "cell_type": "code",
   "execution_count": 21,
   "metadata": {},
   "outputs": [
    {
     "name": "stdout",
     "output_type": "stream",
     "text": [
      "5.0\n"
     ]
    }
   ],
   "source": [
    "# Division\n",
    "z = 15 / 3\n",
    "print(z) # z is a float even though 15 can be divided by 3 evenly"
   ]
  },
  {
   "cell_type": "markdown",
   "metadata": {},
   "source": [
    "To perform integer division in Python, use the `//` operator. This performs division and returns the result rounded down to the next smallest whole number."
   ]
  },
  {
   "cell_type": "code",
   "execution_count": 22,
   "metadata": {},
   "outputs": [
    {
     "data": {
      "text/plain": [
       "5"
      ]
     },
     "execution_count": 22,
     "metadata": {},
     "output_type": "execute_result"
    }
   ],
   "source": [
    "# Returns an integer result (no rounding needed)\n",
    "15 // 3"
   ]
  },
  {
   "cell_type": "code",
   "execution_count": 23,
   "metadata": {},
   "outputs": [
    {
     "data": {
      "text/plain": [
       "4"
      ]
     },
     "execution_count": 23,
     "metadata": {},
     "output_type": "execute_result"
    }
   ],
   "source": [
    "# This result gets rounded to the next smallest whole number\n",
    "13 // 3"
   ]
  },
  {
   "cell_type": "markdown",
   "metadata": {},
   "source": [
    "When you first learned to divide, you probably used \"remainders\" when numbers didn't divide evenly. So the answer to `13` divided by `3` would have been `4` remainder `1`. The integer division operator in Python ignores the remainder, but another useful operator provides it - the modulo operator: `%`."
   ]
  },
  {
   "cell_type": "code",
   "execution_count": 24,
   "metadata": {},
   "outputs": [
    {
     "data": {
      "text/plain": [
       "1"
      ]
     },
     "execution_count": 24,
     "metadata": {},
     "output_type": "execute_result"
    }
   ],
   "source": [
    "# The remainder after integer division\n",
    "13 % 3"
   ]
  },
  {
   "cell_type": "markdown",
   "metadata": {},
   "source": [
    "The `**` operator means \"to the power of\". So `2 ** 3` means `2` to the power of `3`."
   ]
  },
  {
   "cell_type": "code",
   "execution_count": 25,
   "metadata": {},
   "outputs": [
    {
     "data": {
      "text/plain": [
       "8"
      ]
     },
     "execution_count": 25,
     "metadata": {},
     "output_type": "execute_result"
    }
   ],
   "source": [
    "2 ** 3"
   ]
  },
  {
   "cell_type": "markdown",
   "metadata": {},
   "source": [
    "## Strings\n",
    "\n",
    "Although strings are text, not numbers, some of the operators discussed above can be used with strings. But, of course, they have different meanings when text is involved.\n",
    "\n",
    "For example, \"adding\" two strings sticks the two pieces of text together:"
   ]
  },
  {
   "cell_type": "code",
   "execution_count": 26,
   "metadata": {},
   "outputs": [
    {
     "data": {
      "text/plain": [
       "'hello world'"
      ]
     },
     "execution_count": 26,
     "metadata": {},
     "output_type": "execute_result"
    }
   ],
   "source": [
    "\"hello\" + \" world\""
   ]
  },
  {
   "cell_type": "markdown",
   "metadata": {},
   "source": [
    "Multiplying a string creates multiple copies of the original text and sticks them all together:"
   ]
  },
  {
   "cell_type": "code",
   "execution_count": 27,
   "metadata": {},
   "outputs": [
    {
     "data": {
      "text/plain": [
       "' alright  alright  alright '"
      ]
     },
     "execution_count": 27,
     "metadata": {},
     "output_type": "execute_result"
    }
   ],
   "source": [
    "\" alright \" * 3"
   ]
  },
  {
   "cell_type": "markdown",
   "metadata": {},
   "source": [
    "Other operators (like `-` or `/`) don't have unique meaning with strings, so they aren't allowed. Trying to use them will result in an error:"
   ]
  },
  {
   "cell_type": "code",
   "execution_count": 28,
   "metadata": {},
   "outputs": [
    {
     "ename": "TypeError",
     "evalue": "unsupported operand type(s) for -: 'str' and 'str'",
     "output_type": "error",
     "traceback": [
      "\u001b[0;31m---------------------------------------------------------------------------\u001b[0m",
      "\u001b[0;31mTypeError\u001b[0m                                 Traceback (most recent call last)",
      "Cell \u001b[0;32mIn[28], line 1\u001b[0m\n\u001b[0;32m----> 1\u001b[0m \u001b[38;5;124;43m\"\u001b[39;49m\u001b[38;5;124;43mhello\u001b[39;49m\u001b[38;5;124;43m\"\u001b[39;49m\u001b[43m \u001b[49m\u001b[38;5;241;43m-\u001b[39;49m\u001b[43m \u001b[49m\u001b[38;5;124;43m\"\u001b[39;49m\u001b[38;5;124;43m world\u001b[39;49m\u001b[38;5;124;43m\"\u001b[39;49m  \u001b[38;5;66;03m# This will cause an error\u001b[39;00m\n",
      "\u001b[0;31mTypeError\u001b[0m: unsupported operand type(s) for -: 'str' and 'str'"
     ]
    }
   ],
   "source": [
    "\"hello\" - \" world\"  # This will cause an error"
   ]
  },
  {
   "cell_type": "markdown",
   "metadata": {},
   "source": [
    "The `len()` function returns the number of characters in a string:"
   ]
  },
  {
   "cell_type": "code",
   "execution_count": 29,
   "metadata": {},
   "outputs": [
    {
     "data": {
      "text/plain": [
       "109"
      ]
     },
     "execution_count": 29,
     "metadata": {},
     "output_type": "execute_result"
    }
   ],
   "source": [
    "len(\"This is a string. It's not super long, but it's long enough that I don't want to count the characters myself.\")"
   ]
  },
  {
   "cell_type": "markdown",
   "metadata": {},
   "source": [
    "One of the most useful features Python has for strings is the \"F-string\". With F-strings, you can put variables inside your strings (inside curly braces `{}`) and get the variable value inserted into your string."
   ]
  },
  {
   "cell_type": "code",
   "execution_count": 30,
   "metadata": {},
   "outputs": [
    {
     "name": "stdout",
     "output_type": "stream",
     "text": [
      "There are 25 students registered for TME 310A. The highest grade you can get is 4.0\n"
     ]
    }
   ],
   "source": [
    "course = \"TME 310A\"\n",
    "students = 25\n",
    "max_grade = 4.0\n",
    "\n",
    "print(f\"There are {students} students registered for {course}. The highest grade you can get is {max_grade}\")"
   ]
  },
  {
   "cell_type": "markdown",
   "metadata": {},
   "source": [
    "Strings are **indexed**, which means that each character in the string has a numbered position (called an index). You can access the $n$th character in a string putting the index you want in square brackets after the string:"
   ]
  },
  {
   "cell_type": "code",
   "execution_count": 31,
   "metadata": {},
   "outputs": [
    {
     "data": {
      "text/plain": [
       "'s'"
      ]
     },
     "execution_count": 31,
     "metadata": {},
     "output_type": "execute_result"
    }
   ],
   "source": [
    "my_string = \"abstraction\"\n",
    "my_string[2]"
   ]
  },
  {
   "cell_type": "markdown",
   "metadata": {},
   "source": [
    "Depending on what languages you've programmed in before, you may have expected `my_string[2]` to return `b` since that's the 2nd character in the string. But Python is a \"zero-indexed\" language, so counting always starts at zero. To get the first character in the string, we need to put `0` in square brackets:"
   ]
  },
  {
   "cell_type": "code",
   "execution_count": 32,
   "metadata": {},
   "outputs": [
    {
     "data": {
      "text/plain": [
       "'a'"
      ]
     },
     "execution_count": 32,
     "metadata": {},
     "output_type": "execute_result"
    }
   ],
   "source": [
    "my_string[0]"
   ]
  },
  {
   "cell_type": "markdown",
   "metadata": {},
   "source": [
    "Trying to access an index past the end of the string will cause an error:"
   ]
  },
  {
   "cell_type": "code",
   "execution_count": 33,
   "metadata": {},
   "outputs": [
    {
     "ename": "IndexError",
     "evalue": "string index out of range",
     "output_type": "error",
     "traceback": [
      "\u001b[0;31m---------------------------------------------------------------------------\u001b[0m",
      "\u001b[0;31mIndexError\u001b[0m                                Traceback (most recent call last)",
      "Cell \u001b[0;32mIn[33], line 2\u001b[0m\n\u001b[1;32m      1\u001b[0m too_far \u001b[38;5;241m=\u001b[39m \u001b[38;5;28mlen\u001b[39m(my_string)\n\u001b[0;32m----> 2\u001b[0m \u001b[43mmy_string\u001b[49m\u001b[43m[\u001b[49m\u001b[43mtoo_far\u001b[49m\u001b[43m]\u001b[49m \u001b[38;5;66;03m# This will cause an error\u001b[39;00m\n",
      "\u001b[0;31mIndexError\u001b[0m: string index out of range"
     ]
    }
   ],
   "source": [
    "too_far = len(my_string)\n",
    "my_string[too_far] # This will cause an error"
   ]
  },
  {
   "cell_type": "markdown",
   "metadata": {},
   "source": [
    "Notice that the trying to access and index equal to the length of the string causes `IndexError: string index out of range` because the indexing starts at 0! That means that the last entry in the string will have the value `len(my_string) - 1`.\n",
    "\n",
    "In fact, Python supports negative indexing without needing to find the length of the string. The last entry in the string has index `-1`; and the second to last entry has index `-2`, and so on."
   ]
  },
  {
   "cell_type": "code",
   "execution_count": 34,
   "metadata": {},
   "outputs": [
    {
     "data": {
      "text/plain": [
       "'n'"
      ]
     },
     "execution_count": 34,
     "metadata": {},
     "output_type": "execute_result"
    }
   ],
   "source": [
    "my_string[-1] # This will give the last character of the string"
   ]
  },
  {
   "cell_type": "code",
   "execution_count": 35,
   "metadata": {},
   "outputs": [
    {
     "data": {
      "text/plain": [
       "'o'"
      ]
     },
     "execution_count": 35,
     "metadata": {},
     "output_type": "execute_result"
    }
   ],
   "source": [
    "my_string[-2] # This will give the second to last character of the string"
   ]
  },
  {
   "cell_type": "markdown",
   "metadata": {},
   "source": [
    "## Lists\n",
    "\n",
    "We've already seen that lists are containers that hold objects. Now we'll discuss how to interact with these containers.\n",
    "\n",
    "Like strings, lists are indexed data types, so we can use the indexing syntax to access specific values in a list:"
   ]
  },
  {
   "cell_type": "code",
   "execution_count": 36,
   "metadata": {},
   "outputs": [
    {
     "name": "stdout",
     "output_type": "stream",
     "text": [
      "red\n"
     ]
    }
   ],
   "source": [
    "colors = [\"red\", \"green\", \"blue\"]\n",
    "\n",
    "# Print the first item in the list:\n",
    "print(colors[0])"
   ]
  },
  {
   "cell_type": "markdown",
   "metadata": {},
   "source": [
    "One of the key differences between lists and strings is that lists are **mutable**, while strings are **immutable**. This means that you can change the value of an entry in a list, but you can't with a string:"
   ]
  },
  {
   "cell_type": "code",
   "execution_count": 37,
   "metadata": {},
   "outputs": [
    {
     "name": "stdout",
     "output_type": "stream",
     "text": [
      "['red', 'yellow', 'blue']\n"
     ]
    }
   ],
   "source": [
    "# Change the second color from \"green\" to \"yellow\":\n",
    "colors[1] = \"yellow\"\n",
    "print(colors)"
   ]
  },
  {
   "cell_type": "code",
   "execution_count": 38,
   "metadata": {},
   "outputs": [
    {
     "ename": "TypeError",
     "evalue": "'str' object does not support item assignment",
     "output_type": "error",
     "traceback": [
      "\u001b[0;31m---------------------------------------------------------------------------\u001b[0m",
      "\u001b[0;31mTypeError\u001b[0m                                 Traceback (most recent call last)",
      "Cell \u001b[0;32mIn[38], line 2\u001b[0m\n\u001b[1;32m      1\u001b[0m \u001b[38;5;66;03m# Trying to change one of the characters in a string will cause an error:\u001b[39;00m\n\u001b[0;32m----> 2\u001b[0m \u001b[43mmy_string\u001b[49m\u001b[43m[\u001b[49m\u001b[38;5;241;43m0\u001b[39;49m\u001b[43m]\u001b[49m \u001b[38;5;241m=\u001b[39m \u001b[38;5;124m\"\u001b[39m\u001b[38;5;124mA\u001b[39m\u001b[38;5;124m\"\u001b[39m \u001b[38;5;66;03m# This will cause an error\u001b[39;00m\n",
      "\u001b[0;31mTypeError\u001b[0m: 'str' object does not support item assignment"
     ]
    }
   ],
   "source": [
    "# Trying to change one of the characters in a string will cause an error:\n",
    "my_string[0] = \"A\" # This will cause an error"
   ]
  },
  {
   "cell_type": "markdown",
   "metadata": {},
   "source": [
    "Copying A major implication of whether an object is mutable or not is how Python handles **copies** of the object. We saw previously that when we made a copy of an integer variable, changing the original variable did not change the copy. This kind of copying is called **deep** copying. It's the default behavior for immutable objects in Python so the same applies to strings:"
   ]
  },
  {
   "cell_type": "code",
   "execution_count": 39,
   "metadata": {},
   "outputs": [
    {
     "name": "stdout",
     "output_type": "stream",
     "text": [
      "TME 310A\n",
      "TME 310A\n"
     ]
    }
   ],
   "source": [
    "# Make a string and copy it\n",
    "original_string = \"TME 310A\"\n",
    "copied_string = original_string\n",
    "print(original_string)\n",
    "print(copied_string)"
   ]
  },
  {
   "cell_type": "code",
   "execution_count": 40,
   "metadata": {},
   "outputs": [
    {
     "name": "stdout",
     "output_type": "stream",
     "text": [
      "TME 310B\n",
      "TME 310A\n"
     ]
    }
   ],
   "source": [
    "# Change the original string\n",
    "original_string = \"TME 310B\"\n",
    "\n",
    "# The copy is unchanged\n",
    "print(original_string)\n",
    "print(copied_string)"
   ]
  },
  {
   "cell_type": "markdown",
   "metadata": {},
   "source": [
    "But since lists are mutable, when they're copied, Python makes what's called a **shallow** copy. A shallow copy points to the original rather than reproducing it. This means that a change to the original will immediately cause a change in the \"copy\". And, strangely enough, a change in the copy will immediately change the original!"
   ]
  },
  {
   "cell_type": "code",
   "execution_count": 41,
   "metadata": {},
   "outputs": [
    {
     "name": "stdout",
     "output_type": "stream",
     "text": [
      "[1, 2, 3]\n",
      "[1, 2, 3]\n"
     ]
    }
   ],
   "source": [
    "# Make a list and copy it\n",
    "original_list = [ 1, 2, 3 ]\n",
    "copied_list = original_list\n",
    "print(original_list)\n",
    "print(copied_list)"
   ]
  },
  {
   "cell_type": "code",
   "execution_count": 42,
   "metadata": {},
   "outputs": [
    {
     "name": "stdout",
     "output_type": "stream",
     "text": [
      "[99, 2, 3]\n",
      "[99, 2, 3]\n"
     ]
    }
   ],
   "source": [
    "# Change the original list\n",
    "original_list[0] = 99\n",
    "\n",
    "# Both the original and the \"copy\" are changed!\n",
    "print(original_list)\n",
    "print(copied_list)"
   ]
  },
  {
   "cell_type": "code",
   "execution_count": 43,
   "metadata": {},
   "outputs": [
    {
     "name": "stdout",
     "output_type": "stream",
     "text": [
      "[99, 2, -5]\n",
      "[99, 2, -5]\n"
     ]
    }
   ],
   "source": [
    "# Change the copy\n",
    "copied_list[-1] = -5\n",
    "\n",
    "# The original gets changed too!\n",
    "print(original_list)\n",
    "print(copied_list)"
   ]
  },
  {
   "cell_type": "markdown",
   "metadata": {},
   "source": [
    "## Conditionals\n",
    "\n",
    "Conditionals let you make decisions in your code with `if`, `elif`, and `else` statements. Often these use **boolean** comparators which evaluate a statement and return whether it is true or false. Python's boolean comparators are\n",
    "\n",
    "| Boolean comparator | Meaning                  |\n",
    "|--------------------|--------------------------|\n",
    "| `>`                | greater than             |\n",
    "| `<`                | less than                |\n",
    "| `>=`               | greater than or equal to |\n",
    "| `<=`               | less than or equal to    |\n",
    "| `!=`               | not equal to             |\n",
    "| `==`               | equal to                 |"
   ]
  },
  {
   "cell_type": "code",
   "execution_count": 44,
   "metadata": {},
   "outputs": [
    {
     "data": {
      "text/plain": [
       "False"
      ]
     },
     "execution_count": 44,
     "metadata": {},
     "output_type": "execute_result"
    }
   ],
   "source": [
    "# Create two variables and check whether one is greater than the other\n",
    "a = 5\n",
    "b = 10\n",
    "a > b"
   ]
  },
  {
   "cell_type": "markdown",
   "metadata": {},
   "source": [
    "Boolean comparators and conditional statements allow us to change the behavior of Python scripts depending on the values of certain variables. Conditional statements (like the `if` statement) have three parts: 1. The keyword 2. The test condition followed by a colon `:` 3. An indented codeblock that is executed if the test condition is `True`\n",
    "\n",
    "For example:"
   ]
  },
  {
   "cell_type": "code",
   "execution_count": 45,
   "metadata": {},
   "outputs": [],
   "source": [
    "temperature = 65                # a variable representing the temperature\n",
    "\n",
    "if temperature > 70:            # The \"if\" keyword, the test condition, and a colon\n",
    "    print(\"It's warm outside\")  # An indented codeblock that runs if the test condition is True"
   ]
  },
  {
   "cell_type": "markdown",
   "metadata": {},
   "source": [
    "The other conditional statements, `else` and `elif` (short for \"else if\") use the same syntax as the `if` statement, but the must come after an `if` or `elif` statement. They can be used to execute different indented codeblocks under different circumstances.\n",
    "\n",
    "For example:"
   ]
  },
  {
   "cell_type": "code",
   "execution_count": 46,
   "metadata": {},
   "outputs": [
    {
     "name": "stdout",
     "output_type": "stream",
     "text": [
      "It's a nice day\n"
     ]
    }
   ],
   "source": [
    "temperature = 65  \n",
    "\n",
    "if temperature > 70: \n",
    "    print(\"It's warm outside\")\n",
    "elif temperature < 50:\n",
    "    print(\"It's cold outside\")\n",
    "else:\n",
    "    print(\"It's a nice day\")"
   ]
  },
  {
   "cell_type": "markdown",
   "metadata": {},
   "source": [
    "## Loops\n",
    "\n",
    "Loops let you repeat code. The `for` loop goes through each item in an iterable object, like a list:"
   ]
  },
  {
   "cell_type": "code",
   "execution_count": 47,
   "metadata": {},
   "outputs": [
    {
     "name": "stdout",
     "output_type": "stream",
     "text": [
      "apple\n",
      "banana\n",
      "orange\n"
     ]
    }
   ],
   "source": [
    "fruits = [\"apple\", \"banana\", \"orange\"]\n",
    "\n",
    "for fruit in fruits:\n",
    "    print(fruit)"
   ]
  },
  {
   "cell_type": "markdown",
   "metadata": {},
   "source": [
    "The `range()` function creates an iterable sequence of numbers that can be used to control a `for` loop:"
   ]
  },
  {
   "cell_type": "code",
   "execution_count": 48,
   "metadata": {},
   "outputs": [
    {
     "name": "stdout",
     "output_type": "stream",
     "text": [
      "0\n",
      "1\n",
      "2\n",
      "3\n",
      "4\n"
     ]
    }
   ],
   "source": [
    "for i in range(5):\n",
    "    print(i)"
   ]
  },
  {
   "cell_type": "markdown",
   "metadata": {},
   "source": [
    "The `while` loop repeats as long as a condition is True."
   ]
  },
  {
   "cell_type": "code",
   "execution_count": 49,
   "metadata": {},
   "outputs": [
    {
     "name": "stdout",
     "output_type": "stream",
     "text": [
      "Count is 0\n",
      "Count is 1\n",
      "Count is 2\n"
     ]
    }
   ],
   "source": [
    "count = 0\n",
    "\n",
    "while count < 3:\n",
    "    print(f\"Count is {count}\")\n",
    "    count = count + 1"
   ]
  },
  {
   "cell_type": "markdown",
   "metadata": {},
   "source": [
    "The example above is not a great use of a `while` loop because the same thing can be accomplished with a `for` loop and `while` loops have the potential to run forever (or until you manually force the computer to stop). That's called an \"infinite loop\" and can be a pain if triggered accidentally in your code. In the code above, if you left out the list line in the loop, for example, the value of count would never increase and the conditional test (`count < 3`) would always be `True` and the loop would run forever.\n",
    "\n",
    "It's best to reserve `while` loops for situations where you're uncertain how many iterations are needed."
   ]
  }
 ],
 "metadata": {
  "kernelspec": {
   "display_name": "Python 3 (ipykernel)",
   "language": "python",
   "name": "python3",
   "path": "/Library/Frameworks/Python.framework/Versions/3.12/share/jupyter/kernels/python3"
  },
  "language_info": {
   "codemirror_mode": {
    "name": "ipython",
    "version": 3
   },
   "file_extension": ".py",
   "mimetype": "text/x-python",
   "name": "python",
   "nbconvert_exporter": "python",
   "pygments_lexer": "ipython3",
   "version": "3.12.4"
  }
 },
 "nbformat": 4,
 "nbformat_minor": 4
}
