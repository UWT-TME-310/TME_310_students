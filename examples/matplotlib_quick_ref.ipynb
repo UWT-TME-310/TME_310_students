{
 "cells": [
  {
   "cell_type": "markdown",
   "id": "18be8f95",
   "metadata": {},
   "source": [
    "# Matplotlib quick reference\n"
   ]
  },
  {
   "cell_type": "markdown",
   "id": "6410d932",
   "metadata": {},
   "source": [
    "```python\n",
    "import matplotlib.pyplot as plt\n",
    "```"
   ]
  },
  {
   "cell_type": "markdown",
   "id": "7327b4c9",
   "metadata": {},
   "source": [
    "## Basic plotting\n",
    "```python\n",
    "plt.plot(x, y)                    # Line plot\n",
    "plt.scatter(x, y)                 # Scatter plot\n",
    "plt.bar(x, heights)               # Bar chart\n",
    "plt.hist(data, bins=20)           # Histogram\n",
    "plt.imshow(array)                 # 2D array as image\n",
    "```"
   ]
  },
  {
   "cell_type": "markdown",
   "id": "6350b98d",
   "metadata": {},
   "source": [
    "## Customization\n",
    "```python\n",
    "plt.xlabel(\"X Label\")\n",
    "plt.ylabel(\"Y Label\")\n",
    "plt.title(\"Title\")\n",
    "plt.legend([\"Series 1\", \"Series 2\"])\n",
    "plt.grid(True)\n",
    "plt.xlim(0, 10)\n",
    "plt.ylim(0, 100)\n",
    "```"
   ]
  },
  {
   "cell_type": "markdown",
   "id": "4e31d396",
   "metadata": {},
   "source": [
    "## Styling\n",
    "```python\n",
    "plt.plot(x, y, 'r--')            # Red dashed line\n",
    "plt.plot(x, y, marker='o')       # With markers\n",
    "plt.plot(x, y, linewidth=2)      # Line thickness\n",
    "plt.plot(x, y, alpha=0.5)        # Transparency\n",
    "```"
   ]
  },
  {
   "cell_type": "markdown",
   "id": "be68ea97",
   "metadata": {},
   "source": [
    "## Multiple plots\n",
    "```python\n",
    "plt.plot(x, y1)\n",
    "plt.plot(x, y2)                   # Plots on same axes\n",
    "\n",
    "plt.figure()                      # New figure\n",
    "plt.plot(x, y3)                   # Separate plot\n",
    "```"
   ]
  },
  {
   "cell_type": "markdown",
   "id": "041249ee",
   "metadata": {},
   "source": [
    "## Display \n",
    "```python\n",
    "plt.show()                        # Display all figures\n",
    "plt.savefig('plot.png', dpi=400)  # Save to file\n",
    "plt.close()                       # Close current figure\n",
    "plt.close('all')                  # Close all figures\n",
    "```"
   ]
  },
  {
   "cell_type": "markdown",
   "id": "a32f9097",
   "metadata": {},
   "source": [
    "## Common patterns\n",
    "```python\n",
    "plt.plot(x, y, label='Data')\n",
    "plt.xlabel('Time (s)')\n",
    "plt.ylabel('Value')\n",
    "plt.legend()\n",
    "plt.grid(True)\n",
    "plt.savefig('output.png')\n",
    "plt.show()\n",
    "```"
   ]
  },
  {
   "cell_type": "markdown",
   "id": "8a177d31",
   "metadata": {},
   "source": []
  }
 ],
 "metadata": {
  "kernelspec": {
   "display_name": "Python 3",
   "language": "python",
   "name": "python3"
  },
  "language_info": {
   "name": "python",
   "version": "3.12.4"
  }
 },
 "nbformat": 4,
 "nbformat_minor": 5
}
