{
 "cells": [
  {
   "cell_type": "markdown",
   "id": "5b181b1a",
   "metadata": {},
   "source": [
    "# Parachute problem\n",
    "\n",
    "What's the terminal velocity of someone falling with a parachute?\n",
    "(this is our **system**)\n",
    "\n",
    "## Assumptions\n",
    "Let's say we have a **model** for this problem:\n",
    "\n",
    "$$\\frac{dv}{dt} = g -\\frac{c}{m}v$$\n",
    "\n",
    "where $g$ is gravitational acceleration, $c$ is a drag coefficient, $m$ is the parachutist's mass, and $v$ is their velocity.\n",
    "The solution to this differential equation is:\n",
    "\n",
    "$$ v(t) = \\frac{gm}{c}(1 - e^{ct/m})$$\n",
    "\n",
    "Use the following parameters for the parachutist:\n",
    "\n",
    "| Parameter | Value |\n",
    "|----|----|\n",
    "|Mass | 70 kg |\n",
    "| Drag coefficient | 12 kg/s |"
   ]
  },
  {
   "cell_type": "markdown",
   "id": "dd29bc28",
   "metadata": {},
   "source": [
    "---\n",
    "Summarize the goal(s) of the problem in your own words.\n",
    "\n",
    "---"
   ]
  },
  {
   "cell_type": "markdown",
   "id": "f5e49e08",
   "metadata": {},
   "source": [
    "Use one or more of the equations given and the parameters (mass = 70 kg; drag coeff = 12 kg/s) to find the terminal velocity of a parachutist."
   ]
  },
  {
   "cell_type": "markdown",
   "id": "a546cf91",
   "metadata": {},
   "source": [
    "---\n",
    "Describe your plan to solve the problem.\n",
    "\n",
    "---"
   ]
  },
  {
   "cell_type": "markdown",
   "id": "0967a33c",
   "metadata": {},
   "source": [
    "It looks like the second equation give the velocity directly so I'll just use that one. If I plug a big value for $t$ into the equation, it will probably show the terminal velocity. But I want to be able to check that, so I'll calculate velocity for several values of $t$ and confirm that the velocity stops changing (i.e., reaches its terminal value).\n",
    "\n",
    "Steps\n",
    "* assign values to known parameters\n",
    "* use a for loop to calculate and print the velocity for several (maybe 10?) time values from 0 to 100."
   ]
  },
  {
   "cell_type": "markdown",
   "id": "67d5dfb7",
   "metadata": {},
   "source": [
    "---\n",
    "Write Python code to carry out your solution\n",
    "\n",
    "---"
   ]
  },
  {
   "cell_type": "code",
   "execution_count": null,
   "id": "be87c316",
   "metadata": {},
   "outputs": [
    {
     "name": "stdout",
     "output_type": "stream",
     "text": [
      "Time (s)    Velocity (m/s)\n",
      "0          0.0\n",
      "10         46.92\n",
      "20         55.37\n",
      "30         56.89\n",
      "40         57.16\n",
      "50         57.21\n",
      "60         57.22\n",
      "70         57.22\n",
      "80         57.22\n",
      "90         57.22\n",
      "100        57.22\n"
     ]
    }
   ],
   "source": [
    "# assign values to known parameters\n",
    "g = 9.81  # gravitational acceleration in m/s^2\n",
    "m = 70   # mass in kg\n",
    "c = 12   # drag coefficient in kg/s\n",
    "\n",
    "# calculate gm/c once since it is used in the formula\n",
    "gm_over_c = (g * m) / c\n",
    "\n",
    "# use a for loop to calculate and print the velocity for several time values from 0 to 100\n",
    "# we'll use 11 time values: 0, 10, 20, ..., 100\n",
    "print(\"Time (s)    Velocity (m/s)\")\n",
    "for t in range(0, 101, 10):\n",
    "    # calculate the exponent part: -c * t / m\n",
    "    exponent = -c * t / m\n",
    "    # calculate e^(exponent) using the built-in pow() function\n",
    "    exp_value = pow(2.71828, exponent)  # 2.71828 is an approximation for e\n",
    "    # calculate velocity using the formula\n",
    "    v = gm_over_c * (1 - exp_value)\n",
    "    # print the time and velocity, rounded to 2 decimal places\n",
    "    print(str(t).ljust(10), round(v, 2))"
   ]
  },
  {
   "cell_type": "markdown",
   "id": "d5ed35c8",
   "metadata": {},
   "source": [
    "---\n",
    "Looking back at your code and the resulting output, reflect on whether your code achieved the problem goal(s). To the extent the problem models a physical system, how realistic does the behavior seem? Are there any changes you would make to your approach if you were to solve this problem again (e.g., to make your code more re-usable or to avoid dead ends)?\n",
    "\n",
    "---"
   ]
  },
  {
   "cell_type": "markdown",
   "id": "776a91e2",
   "metadata": {},
   "source": []
  },
  {
   "cell_type": "markdown",
   "id": "b9ac6343",
   "metadata": {},
   "source": []
  }
 ],
 "metadata": {
  "kernelspec": {
   "display_name": "Python 3",
   "language": "python",
   "name": "python3"
  },
  "language_info": {
   "codemirror_mode": {
    "name": "ipython",
    "version": 3
   },
   "file_extension": ".py",
   "mimetype": "text/x-python",
   "name": "python",
   "nbconvert_exporter": "python",
   "pygments_lexer": "ipython3",
   "version": "3.11.13"
  }
 },
 "nbformat": 4,
 "nbformat_minor": 5
}
