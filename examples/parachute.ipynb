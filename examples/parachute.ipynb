{
 "cells": [
  {
   "cell_type": "markdown",
   "id": "5b181b1a",
   "metadata": {},
   "source": [
    "# Parachute problem\n",
    "\n",
    "What's the terminal velocity of someone falling with a parachute?\n",
    "(this is our **system**)\n",
    "\n",
    "## Assumptions\n",
    "Let's say we have a **model** for this problem:\n",
    "\n",
    "$$\\frac{dv}{dt} = g -\\frac{c}{m}v$$\n",
    "\n",
    "where $g$ is gravitational acceleration, $c$ is a drag coefficient, $m$ is the parachutist's mass, and $v$ is their velocity.\n",
    "The solution to this differential equation is:\n",
    "\n",
    "$$ v(t) = \\frac{gm}{c}(1 - e^{ct/m})$$\n",
    "\n",
    "Use the following parameters for the parachutist:\n",
    "\n",
    "| Parameter | Value |\n",
    "|----|----|\n",
    "|Mass | 70 kg |\n",
    "| Drag coefficient | 12 kg/s |"
   ]
  },
  {
   "cell_type": "markdown",
   "id": "dd29bc28",
   "metadata": {},
   "source": [
    "---\n",
    "Summarize the goal(s) of the problem in your own words.\n",
    "\n",
    "---"
   ]
  },
  {
   "cell_type": "markdown",
   "id": "f5e49e08",
   "metadata": {},
   "source": []
  },
  {
   "cell_type": "markdown",
   "id": "a546cf91",
   "metadata": {},
   "source": [
    "---\n",
    "Describe your plan to solve the problem.\n",
    "\n",
    "---"
   ]
  },
  {
   "cell_type": "markdown",
   "id": "0967a33c",
   "metadata": {},
   "source": []
  },
  {
   "cell_type": "markdown",
   "id": "67d5dfb7",
   "metadata": {},
   "source": [
    "---\n",
    "Write Python code to carry out your solution:\n",
    "\n",
    "---"
   ]
  },
  {
   "cell_type": "code",
   "execution_count": null,
   "id": "be87c316",
   "metadata": {},
   "outputs": [],
   "source": []
  },
  {
   "cell_type": "markdown",
   "id": "d5ed35c8",
   "metadata": {},
   "source": [
    "---\n",
    "Looking back at your code and the resulting output, reflect on whether your code achieved the problem goal(s). To the extent the problem models a physical system, how realistic does the behavior seem? Are there any changes you would make to your approach if you were to solve this problem again (e.g., to make your code more re-usable or to avoid dead ends)?\n",
    "\n",
    "---"
   ]
  },
  {
   "cell_type": "markdown",
   "id": "776a91e2",
   "metadata": {},
   "source": []
  }
 ],
 "metadata": {
  "kernelspec": {
   "display_name": "Python 3",
   "language": "python",
   "name": "python3"
  },
  "language_info": {
   "codemirror_mode": {
    "name": "ipython",
    "version": 3
   },
   "file_extension": ".py",
   "mimetype": "text/x-python",
   "name": "python",
   "nbconvert_exporter": "python",
   "pygments_lexer": "ipython3",
   "version": "3.11.13"
  }
 },
 "nbformat": 4,
 "nbformat_minor": 5
}
