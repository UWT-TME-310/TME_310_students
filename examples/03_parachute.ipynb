{
 "cells": [
  {
   "cell_type": "markdown",
   "id": "5b181b1a",
   "metadata": {},
   "source": [
    "# Parachute problem\n",
    "\n",
    "What's the terminal velocity of someone falling with a parachute?\n",
    "(this is our **system**)\n",
    "\n",
    "## Assumptions\n",
    "Let's say we have a **model** for this problem:\n",
    "\n",
    "$$\\frac{dv}{dt} = g -\\frac{c}{m}v$$\n",
    "\n",
    "where $g$ is gravitational acceleration, $c$ is a drag coefficient, $m$ is the parachutist's mass, and $v$ is their velocity.\n",
    "The solution to this differential equation is:\n",
    "\n",
    "$$ v(t) = \\frac{gm}{c}(1 - e^{ct/m})$$\n",
    "\n",
    "Use the following parameters for the parachutist:\n",
    "\n",
    "| Parameter | Value |\n",
    "|----|----|\n",
    "|Mass | 70 kg |\n",
    "| Drag coefficient | 12 kg/s |"
   ]
  },
  {
   "cell_type": "markdown",
   "id": "dd29bc28",
   "metadata": {},
   "source": [
    "---\n",
    "\n",
    "Summarize the goal(s) of the problem in your own words.\n",
    "\n",
    "---"
   ]
  },
  {
   "cell_type": "markdown",
   "id": "f5e49e08",
   "metadata": {},
   "source": [
    "Use one or more of the equations given and the parameters (mass = 70 kg; drag coeff = 12 kg/s) to find the terminal velocity of a parachutist."
   ]
  },
  {
   "cell_type": "markdown",
   "id": "a546cf91",
   "metadata": {},
   "source": [
    "---\n",
    "\n",
    "Describe your plan to solve the problem.\n",
    "\n",
    "---"
   ]
  },
  {
   "cell_type": "markdown",
   "id": "0967a33c",
   "metadata": {},
   "source": [
    "It looks like the second equation give the velocity directly so I'll just use that one. If I plug a big value for $t$ into the equation, it will probably show the terminal velocity. But I want to be able to check that, so I'll calculate velocity for several values of $t$ and confirm that the velocity stops changing (i.e., reaches its terminal value).\n",
    "\n",
    "Steps\n",
    "* assign values to known parameters\n",
    "* use a for loop to calculate and print the velocity for several (maybe 10?) time values from 0 to 100."
   ]
  },
  {
   "cell_type": "markdown",
   "id": "67d5dfb7",
   "metadata": {},
   "source": [
    "---\n",
    "\n",
    "Write Python code to carry out your solution\n",
    "\n",
    "---"
   ]
  },
  {
   "cell_type": "code",
   "execution_count": 6,
   "id": "be87c316",
   "metadata": {},
   "outputs": [
    {
     "name": "stdout",
     "output_type": "stream",
     "text": [
      "At time 0 sec, the velocity is 0.00 m/s\n",
      "At time 10 sec, the velocity is 46.92 m/s\n",
      "At time 20 sec, the velocity is 55.37 m/s\n",
      "At time 30 sec, the velocity is 56.89 m/s\n",
      "At time 40 sec, the velocity is 57.16 m/s\n",
      "At time 50 sec, the velocity is 57.21 m/s\n",
      "At time 60 sec, the velocity is 57.22 m/s\n",
      "At time 70 sec, the velocity is 57.22 m/s\n",
      "At time 80 sec, the velocity is 57.22 m/s\n",
      "At time 90 sec, the velocity is 57.22 m/s\n",
      "At time 100 sec, the velocity is 57.22 m/s\n"
     ]
    }
   ],
   "source": [
    "# assign values to known parameters\n",
    "g = 9.81 # m/s/s\n",
    "e = 2.718 # Euler's number\n",
    "m = 70 # kg\n",
    "c = 12 # kg/s\n",
    "\n",
    "# use a for loop to calculate and print the velocity for several (maybe 11?) time values from 0 to 100.\n",
    "for i in range(11):\n",
    "    t = 10*i # time (sec)\n",
    "    v = (g * m / c) * (1 - e**( -c * t / m))\n",
    "    print(f\"At time {t} sec, the velocity is {v:.2f} m/s\")\n"
   ]
  },
  {
   "cell_type": "code",
   "execution_count": 3,
   "id": "2be9e83e",
   "metadata": {},
   "outputs": [
    {
     "name": "stdout",
     "output_type": "stream",
     "text": [
      "The terminal velocity is 57.22 m/s.\n"
     ]
    }
   ],
   "source": [
    "print(f\"The terminal velocity is {v:.2f} m/s.\")"
   ]
  },
  {
   "cell_type": "markdown",
   "id": "d5ed35c8",
   "metadata": {},
   "source": [
    "---\n",
    "\n",
    "Looking back at your code and the resulting output, reflect on whether your code achieved the problem goal(s). To the extent the problem models a physical system, how realistic does the behavior seem? Are there any changes you would make to your approach if you were to solve this problem again (e.g., to make your code more re-usable or to avoid dead ends)?\n",
    "\n",
    "---"
   ]
  },
  {
   "cell_type": "markdown",
   "id": "776a91e2",
   "metadata": {},
   "source": [
    "Yes, the code achieves the problem goals. The behavior seems realistic because:\n",
    "\n",
    "* The sign of the velocity is the same as the acceleration (falling downward).\n",
    "* After about 50 seconds, the velocity stays the same.\n",
    "* When the drag coefficient is small, the velocity increases linearly.\n",
    "\n",
    "I think the actual value seems a bit high. From what I could look up quickly, 7 m/s is a safe landing speed. 57 m/s is way too fast!\n",
    "\n",
    "It would be nice if the code saved the velocity and time values so I could plot them. It would be hard to use this code to check the terminal velocity of several differnent combinations of mass and drag coefficient, so I'd want to a way to keep track of that."
   ]
  },
  {
   "cell_type": "markdown",
   "id": "b9ac6343",
   "metadata": {},
   "source": []
  }
 ],
 "metadata": {
  "kernelspec": {
   "display_name": "Python 3",
   "language": "python",
   "name": "python3"
  },
  "language_info": {
   "codemirror_mode": {
    "name": "ipython",
    "version": 3
   },
   "file_extension": ".py",
   "mimetype": "text/x-python",
   "name": "python",
   "nbconvert_exporter": "python",
   "pygments_lexer": "ipython3",
   "version": "3.11.13"
  }
 },
 "nbformat": 4,
 "nbformat_minor": 5
}
